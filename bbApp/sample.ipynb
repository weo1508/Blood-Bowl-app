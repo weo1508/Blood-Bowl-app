{
 "cells": [
  {
   "metadata": {},
   "cell_type": "markdown",
   "source": [
    "# This is a sample Jupyter Notebook\n",
    "\n",
    "Below is an example of a code cell. \n",
    "Put your cursor into the cell and press Shift+Enter to execute it and select the next one, or click !here goes the icon of the corresponding button in the gutter! button.\n",
    "To debug a cell, press Alt+Shift+Enter, or click !here goes the icon of the corresponding button in the gutter! button.\n",
    "\n",
    "Press Double Shift to search everywhere for classes, files, tool windows, actions, and settings.\n",
    "\n",
    "To learn more about Jupyter Notebooks in PyCharm, see [help](https://www.jetbrains.com/help/pycharm/jupyter-notebook-support.html).\n",
    "For an overview of PyCharm, go to Help -> Learn IDE features or refer to [our documentation](https://www.jetbrains.com/help/pycharm/getting-started.html)."
   ],
   "id": "8a77807f92f26ee"
  },
  {
   "metadata": {
    "ExecuteTime": {
     "end_time": "2024-06-20T05:20:49.599070Z",
     "start_time": "2024-06-20T05:20:49.595799Z"
    }
   },
   "cell_type": "code",
   "source": "print(\"hi\")",
   "id": "fbc121e30a2defb3",
   "outputs": [
    {
     "name": "stdout",
     "output_type": "stream",
     "text": [
      "hi\n"
     ]
    }
   ],
   "execution_count": 1
  },
  {
   "metadata": {
    "ExecuteTime": {
     "end_time": "2024-07-20T14:26:06.049431Z",
     "start_time": "2024-07-20T14:26:06.039614Z"
    }
   },
   "cell_type": "code",
   "source": [
    "#import + setup test\n",
    "import pandas\n",
    "df = pandas.read_csv(\"BBlogin.csv\")\n",
    "print(df)\n"
   ],
   "id": "6e41265cc71fe4f0",
   "outputs": [
    {
     "name": "stdout",
     "output_type": "stream",
     "text": [
      "  accountName  password\n",
      "0         weo    123456\n",
      "1   something    111111\n",
      "2          hi    666666\n"
     ]
    }
   ],
   "execution_count": 67
  },
  {
   "metadata": {
    "ExecuteTime": {
     "end_time": "2024-07-20T14:26:09.185573Z",
     "start_time": "2024-07-20T14:26:09.154906Z"
    }
   },
   "cell_type": "code",
   "source": [
    "#all · sign up\n",
    "'''https://www.geeksforgeeks.org/how-to-append-a-new-row-to-an-existing-csv-file/'''\n",
    "from csv import writer\n",
    "\n",
    "def sign():\n",
    "    global name\n",
    "    name = input(\"Enter your name: \")\n",
    "    password = input(\"Enter your password: \")\n",
    "    \n",
    "    # List that we want to add as a new row\n",
    "    List = [name, password]\n",
    "    \n",
    "    # Open our existing CSV file in append mode\n",
    "    # Create a file object for this file\n",
    "    with open('BBlogin.csv', 'a') as f_object:\n",
    "\n",
    "\t    # Pass this file object to csv.writer()\n",
    "\t    # and get a writer object\n",
    "\t    writer_object = writer(f_object)\n",
    "\n",
    "\t    # Pass the list as an argument into\n",
    "\t    # the writerow()\n",
    "\t    writer_object.writerow(List)\n",
    "\n",
    "\t    # Close the file object\n",
    "\t    f_object.close()\n",
    "        \n",
    "#test code    \n",
    "df = pandas.read_csv(\"BBlogin.csv\")\n",
    "print(df)"
   ],
   "id": "c935d7a43759c8e1",
   "outputs": [
    {
     "name": "stdout",
     "output_type": "stream",
     "text": [
      "  accountName  password\n",
      "0         weo    123456\n",
      "1   something    111111\n",
      "2          hi    666666\n"
     ]
    }
   ],
   "execution_count": 68
  },
  {
   "metadata": {
    "ExecuteTime": {
     "end_time": "2024-07-20T14:26:11.089367Z",
     "start_time": "2024-07-20T14:26:11.085102Z"
    }
   },
   "cell_type": "code",
   "source": [
    "#all · login check\n",
    "def log():\n",
    "    login = df.set_index('accountName')['password'].to_dict()\n",
    "    for k in login:\n",
    "        login[k] = str(login[k])\n",
    "    loginCheck = False\n",
    "    name = input(\"Enter your name: \")\n",
    "    password = input(\"Enter your password: \")\n",
    "\n",
    "    for k, v in login.items():\n",
    "        if name == k :\n",
    "            print(\"Name yes\")\n",
    "            if password == v:\n",
    "                loginCheck = True\n",
    "                print(\"Proceed to next page.\")\n",
    "                break\n",
    "    if not loginCheck:\n",
    "        print(\"Wrong name or password, reload\")\n"
   ],
   "id": "6807d09721f92d8b",
   "outputs": [],
   "execution_count": 69
  },
  {
   "metadata": {
    "ExecuteTime": {
     "end_time": "2024-07-20T12:28:35.472446Z",
     "start_time": "2024-07-20T12:28:25.649999Z"
    }
   },
   "cell_type": "code",
   "source": [
    "#process · log/sign choice\n",
    "choice = input(\"Log in or sign up? (input l or s): \")\n",
    "if choice == \"l\":\n",
    "    log()\n",
    "elif choice == \"s\":\n",
    "    sign()\n",
    "    df = pandas.read_csv(\"BBlogin.csv\")\n",
    "    print(df)"
   ],
   "id": "f303e8c0c6f96ccf",
   "outputs": [
    {
     "name": "stdout",
     "output_type": "stream",
     "text": [
      "  accountName password\n",
      "0         weo   123456\n",
      "1   something   111111\n",
      "2          hi   666666\n",
      "3         *çç     ññññ\n"
     ]
    }
   ],
   "execution_count": 64
  },
  {
   "metadata": {
    "ExecuteTime": {
     "end_time": "2024-07-20T14:26:18.115303Z",
     "start_time": "2024-07-20T14:26:13.061617Z"
    }
   },
   "cell_type": "code",
   "source": [
    "#process · player or admin selection\n",
    "identity = input(\"Begin as player / admin (input p or a): \")\n",
    "admin = False\n",
    "if identity == \"p\":\n",
    "    print(\"Load player join game page.\")\n",
    "elif identity == \"a\":\n",
    "    admin = True\n",
    "    print (\"Load admin setup game page.\")\n",
    "#prevent testing issue, in real page there are only two button options\n",
    "else:\n",
    "    print(\"invalid\")"
   ],
   "id": "4c2dc9c3c2a9cbc1",
   "outputs": [
    {
     "name": "stdout",
     "output_type": "stream",
     "text": [
      "Load player join game page.\n"
     ]
    }
   ],
   "execution_count": 70
  },
  {
   "metadata": {
    "ExecuteTime": {
     "end_time": "2024-07-20T14:26:48.812420Z",
     "start_time": "2024-07-20T14:26:48.804727Z"
    }
   },
   "cell_type": "code",
   "source": [
    "#gamePin generator method\n",
    "import random\n",
    "pins = []\n",
    "def pinGenerator():\n",
    "    gamePin = str(random.randint(100, 999)) + \"-\" + str(random.randint(100, 999))\n",
    "    print(gamePin) \n",
    "    pins.append(gamePin)\n",
    "\n",
    "#check code: pins array\n",
    "pinGenerator()\n",
    "print(pins)"
   ],
   "id": "afd611dbd22e579",
   "outputs": [
    {
     "name": "stdout",
     "output_type": "stream",
     "text": [
      "437-798\n",
      "['437-798']\n"
     ]
    }
   ],
   "execution_count": 72
  },
  {
   "metadata": {
    "ExecuteTime": {
     "end_time": "2024-07-20T14:27:05.996577Z",
     "start_time": "2024-07-20T14:27:01.146376Z"
    }
   },
   "cell_type": "code",
   "source": [
    "#all · checkPin method\n",
    "currentPin = str(input(\"first 3 digit\")) + \"-\" + str(input(\"last 3 digit\"))\n",
    "check = False\n",
    "for i in range(len(pins)):\n",
    "    if currentPin == pins[i]:\n",
    "        check = True\n",
    "        print(\"Valid pin, load game page.\")\n",
    "        break\n",
    "if not check:\n",
    "    print(\"Invalid pin\")\n"
   ],
   "id": "1e705c399766d9c4",
   "outputs": [
    {
     "name": "stdout",
     "output_type": "stream",
     "text": [
      "Valid pin, load game page.\n"
     ]
    }
   ],
   "execution_count": 73
  },
  {
   "metadata": {
    "ExecuteTime": {
     "end_time": "2024-07-20T14:27:19.427973Z",
     "start_time": "2024-07-20T14:27:17.583870Z"
    }
   },
   "cell_type": "code",
   "source": [
    "#admin function · set player number\n",
    "playerNum = 2\n",
    "if input(\"+\"):\n",
    "    playerNum += 1\n",
    "elif input (\"-\"):\n",
    "    playerNum -= 1\n",
    "print(playerNum)"
   ],
   "id": "9b0725f91114d582",
   "outputs": [
    {
     "name": "stdout",
     "output_type": "stream",
     "text": [
      "3\n"
     ]
    }
   ],
   "execution_count": 74
  },
  {
   "metadata": {
    "ExecuteTime": {
     "end_time": "2024-07-20T14:28:01.052281Z",
     "start_time": "2024-07-20T14:28:01.045793Z"
    }
   },
   "cell_type": "code",
   "source": [
    "#admin function · set player name\n",
    "firstLog = False\n",
    "def AsetPlayerName():\n",
    "    playerName = []\n",
    "    for i in range(playerNum):\n",
    "        playerName.append (input(\"Enter name: \"))\n",
    "    firstLog == True\n",
    "    return playerName"
   ],
   "id": "14ef527352bf6aea",
   "outputs": [],
   "execution_count": 76
  },
  {
   "metadata": {
    "ExecuteTime": {
     "end_time": "2024-07-20T14:28:12.068169Z",
     "start_time": "2024-07-20T14:28:03.909253Z"
    }
   },
   "cell_type": "code",
   "source": [
    "#process\n",
    "if firstLog == False:\n",
    "    playerName = AsetPlayerName()  \n",
    "    firstLog = True\n",
    "    #test code\n",
    "    print(playerName)\n",
    "elif firstLog == True:\n",
    "    print(playerName)"
   ],
   "id": "3770fe975bc7ccbb",
   "outputs": [
    {
     "name": "stdout",
     "output_type": "stream",
     "text": [
      "['aaa', 'weo', 'haha']\n"
     ]
    }
   ],
   "execution_count": 77
  },
  {
   "metadata": {
    "ExecuteTime": {
     "end_time": "2024-07-21T04:05:19.594594Z",
     "start_time": "2024-07-21T04:05:14.723892Z"
    }
   },
   "cell_type": "code",
   "source": [
    "#admin · set treasury\n",
    "def setTreasury():\n",
    "    playerTreasury = []\n",
    "    for i in range(playerNum):\n",
    "        treasury = input(\"Enter treasury: \")\n",
    "        while not treasury.isdigit():\n",
    "            treasury = input(\"Invalid input, enter a number: \")\n",
    "        playerTreasury.append(treasury)\n",
    "    return playerTreasury\n",
    "\n",
    "#test code\n",
    "playerTreasury = setTreasury()\n",
    "print(playerTreasury)"
   ],
   "id": "9376093015e3e31b",
   "outputs": [
    {
     "name": "stdout",
     "output_type": "stream",
     "text": [
      "['2', '34', '99']\n"
     ]
    }
   ],
   "execution_count": 87
  },
  {
   "metadata": {
    "ExecuteTime": {
     "end_time": "2024-07-21T04:06:07.669845Z",
     "start_time": "2024-07-21T04:06:05.996476Z"
    }
   },
   "cell_type": "code",
   "source": [
    "#player · player select name\n",
    "'''set button 0, 1, 2, 3 etc.'''\n",
    "arrayID = int(input(\"Name number:\"))\n",
    "firstLog = True\n",
    "print(arrayID)\n"
   ],
   "id": "2e065d741e1b8632",
   "outputs": [
    {
     "name": "stdout",
     "output_type": "stream",
     "text": [
      "2\n"
     ]
    }
   ],
   "execution_count": 89
  },
  {
   "metadata": {
    "ExecuteTime": {
     "end_time": "2024-07-21T04:06:12.393851Z",
     "start_time": "2024-07-21T04:06:12.373049Z"
    }
   },
   "cell_type": "code",
   "source": [
    "#process · record track sheet\n",
    "df2 = pandas.read_csv(\"BBtrack.csv\")\n",
    "\n",
    "def updateTrack():\n",
    "    List = [name, currentPin, firstLog, admin, playerName[arrayID], playerTreasury[arrayID]]\n",
    "\n",
    "    with open('BBtrack.csv', 'a') as f_object:\n",
    "\t    writer_object = writer(f_object)\n",
    "\t    writer_object.writerow(List)\n",
    "\t    f_object.close()\n",
    "\n",
    "updateTrack()\n",
    "\n",
    "print(df2)    \n"
   ],
   "id": "9248c28cc53bbca7",
   "outputs": [
    {
     "name": "stdout",
     "output_type": "stream",
     "text": [
      "  name      pin  logFirst  admin gameName  treasury\n",
      "0  weo  437-798      True  False     haha       NaN\n",
      "1  weo  437-798      True  False     haha       NaN\n",
      "2  weo  437-798      True  False     haha      99.0\n"
     ]
    }
   ],
   "execution_count": 90
  },
  {
   "metadata": {
    "ExecuteTime": {
     "end_time": "2024-07-22T13:02:54.454699Z",
     "start_time": "2024-07-22T13:02:48.155175Z"
    }
   },
   "cell_type": "code",
   "source": [
    "name = input(\"Enter your name: \")\n",
    "pin = input(\"Enter your pin: \")\n",
    "\n",
    "def logCheck():\n",
    "    logCheck = df2.set_index('name')['pin'].to_dict()\n",
    "    firstLog = False\n",
    "    for k, v in logCheck.items():\n",
    "        if k == name and v == pin:\n",
    "            firstLog = True\n",
    "            break\n",
    "    return firstLog\n",
    "\n",
    "print(df2)\n",
    "firstLog = logCheck()\n",
    "print(firstLog)"
   ],
   "id": "b93d11b1e7b0c3d5",
   "outputs": [
    {
     "name": "stdout",
     "output_type": "stream",
     "text": [
      "  name      pin  logFirst  admin gameName  treasury\n",
      "0  weo  437-798      True  False     haha       NaN\n",
      "1  weo  437-798      True  False     haha       NaN\n",
      "2  weo  437-798      True  False     haha      99.0\n",
      "True\n"
     ]
    }
   ],
   "execution_count": 96
  },
  {
   "metadata": {
    "ExecuteTime": {
     "end_time": "2024-07-24T08:14:28.779474Z",
     "start_time": "2024-07-24T08:14:28.764368Z"
    }
   },
   "cell_type": "code",
   "source": [
    "#import\n",
    "import pandas\n",
    "from csv import writer\n",
    "\n",
    "df2 = pandas.read_csv(\"BBtrack.csv\")\n",
    "\n",
    "pins = df2['pin'].drop_duplicates().tolist()\n",
    "print(pins)"
   ],
   "id": "46ca955164cc6efc",
   "outputs": [
    {
     "name": "stdout",
     "output_type": "stream",
     "text": [
      "['437-798', '666-111', '888-888']\n"
     ]
    }
   ],
   "execution_count": 20
  },
  {
   "metadata": {
    "ExecuteTime": {
     "end_time": "2024-07-24T08:14:55.940960Z",
     "start_time": "2024-07-24T08:14:55.920609Z"
    }
   },
   "cell_type": "code",
   "source": [
    "#all · set up initial array for pin and treasury\n",
    "def getArray(pin, columnName):\n",
    "    pinArray = df2['pin'].tolist()\n",
    "    temp = df2[columnName].tolist()\n",
    "    toReturn = []\n",
    "    for i in range(len(pinArray)):\n",
    "        if pinArray[i] == pin:\n",
    "            toReturn.append(temp[i])\n",
    "    return toReturn\n",
    "\n",
    "name = 'undefined'\n",
    "pin = '437-798'\n",
    "\n",
    "pins = df2['pin'].drop_duplicates().tolist()\n",
    "playerName = getArray(pin, 'gameName')\n",
    "playerTreasury = getArray(pin, 'treasury')\n",
    "\n",
    "print(pins)\n",
    "print(playerName)\n",
    "print(playerTreasury)"
   ],
   "id": "a6dfa6163bc27bbf",
   "outputs": [
    {
     "name": "stdout",
     "output_type": "stream",
     "text": [
      "['437-798', '666-111', '888-888']\n",
      "['haha', 'aw', 'fine', 'testing', 'wiiii']\n",
      "[99, 999, 66, 666, 3333]\n"
     ]
    }
   ],
   "execution_count": 23
  },
  {
   "metadata": {
    "ExecuteTime": {
     "end_time": "2024-07-28T07:15:11.886337Z",
     "start_time": "2024-07-28T07:15:11.858600Z"
    }
   },
   "cell_type": "code",
   "source": [
    "#all · set up initial array for pin and treasury\n",
    "import pandas\n",
    "\n",
    "pin = '195-244'\n",
    "df3 = pandas.read_csv(\"BBarray.csv\")\n",
    "\n",
    "def getArray(pin, columnName, fileName):\n",
    "    pinArray = fileName['pin'].tolist()\n",
    "    temp = fileName[columnName].tolist()\n",
    "    toReturn = []\n",
    "    for i in range(len(pinArray)):\n",
    "        if pinArray[i] == pin:\n",
    "            toReturn.append(temp[i])\n",
    "    return toReturn\n",
    "\n",
    "\n",
    "playerNames = getArray(pin, 'playerName', df3)\n",
    "print(playerNames)"
   ],
   "id": "74d12195a97aefbb",
   "outputs": [
    {
     "name": "stdout",
     "output_type": "stream",
     "text": [
      "['hiii', 'haha', 'testtest']\n"
     ]
    }
   ],
   "execution_count": 4
  },
  {
   "metadata": {
    "ExecuteTime": {
     "end_time": "2024-08-22T00:59:48.819550Z",
     "start_time": "2024-08-22T00:59:48.759555Z"
    }
   },
   "cell_type": "code",
   "source": [
    "import mysql.connector\n",
    "\n",
    "mydb = mysql.connector.connect(\n",
    "  host=\"127.0.0.1\",\n",
    "  user=\"root\",\n",
    "  password=\"jyz1508!\"\n",
    ")\n",
    "\n",
    "print(mydb)"
   ],
   "id": "b3a5afa291f60563",
   "outputs": [
    {
     "name": "stdout",
     "output_type": "stream",
     "text": [
      "<mysql.connector.connection_cext.CMySQLConnection object at 0x1067cc5f0>\n"
     ]
    }
   ],
   "execution_count": 1
  },
  {
   "metadata": {
    "ExecuteTime": {
     "end_time": "2024-08-22T01:29:05.697077Z",
     "start_time": "2024-08-22T01:29:05.533626Z"
    }
   },
   "cell_type": "code",
   "source": [
    "import streamlit as st\n",
    "\n",
    "'''\n",
    "def app():\n",
    "    st.title('Welcome to Blood Bowl')\n",
    "'''\n",
    "\n"
   ],
   "id": "85e8dd2e3295d39f",
   "outputs": [
    {
     "data": {
      "text/plain": [
       "\"\\ndef app():\\n    st.title('Welcome to Blood Bowl')\\n\""
      ]
     },
     "execution_count": 1,
     "metadata": {},
     "output_type": "execute_result"
    }
   ],
   "execution_count": 1
  },
  {
   "metadata": {
    "ExecuteTime": {
     "end_time": "2024-08-22T01:28:12.193669Z",
     "start_time": "2024-08-22T01:28:12.183137Z"
    }
   },
   "cell_type": "code",
   "source": "\n",
   "id": "22111fee70bb454a",
   "outputs": [
    {
     "ename": "SyntaxError",
     "evalue": "invalid syntax (1874054083.py, line 1)",
     "output_type": "error",
     "traceback": [
      "\u001B[0;36m  Cell \u001B[0;32mIn[8], line 1\u001B[0;36m\u001B[0m\n\u001B[0;31m    streamlit hello\u001B[0m\n\u001B[0m              ^\u001B[0m\n\u001B[0;31mSyntaxError\u001B[0m\u001B[0;31m:\u001B[0m invalid syntax\n"
     ]
    }
   ],
   "execution_count": 8
  },
  {
   "metadata": {},
   "cell_type": "code",
   "outputs": [],
   "execution_count": null,
   "source": "",
   "id": "5b95b7537d4f7f6"
  }
 ],
 "metadata": {
  "kernelspec": {
   "display_name": "Python 3",
   "language": "python",
   "name": "python3"
  },
  "language_info": {
   "codemirror_mode": {
    "name": "ipython",
    "version": 2
   },
   "file_extension": ".py",
   "mimetype": "text/x-python",
   "name": "python",
   "nbconvert_exporter": "python",
   "pygments_lexer": "ipython2",
   "version": "2.7.6"
  }
 },
 "nbformat": 4,
 "nbformat_minor": 5
}
